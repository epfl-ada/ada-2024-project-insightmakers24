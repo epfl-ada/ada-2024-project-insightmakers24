{
 "cells": [
  {
   "cell_type": "code",
   "execution_count": 30,
   "metadata": {
    "collapsed": true
   },
   "outputs": [],
   "source": [
    "import numpy as np\n",
    "import pandas as pd\n",
    "import matplotlib.pyplot as plt\n",
    "\n",
    "from scipy import stats"
   ]
  },
  {
   "cell_type": "code",
   "execution_count": 31,
   "outputs": [
    {
     "name": "stdout",
     "output_type": "stream",
     "text": [
      "Index(['country', 'BeerConsumptionTotalConsumption1000t2021',\n",
      "       'BeerConsumptionPerCapitakg2021',\n",
      "       'beerConsumptionByCountry_consmPerCap2020',\n",
      "       'beerConsumptionByCountry_consmPerCap'],\n",
      "      dtype='object')\n"
     ]
    },
    {
     "data": {
      "text/plain": "                              country  \\\n0                               India   \n1                               China   \n2                       United States   \n3                           Indonesia   \n4                            Pakistan   \n..                                ...   \n177                        Micronesia   \n178  Saint Vincent and the Grenadines   \n179               Antigua and Barbuda   \n180                          Dominica   \n181             Saint Kitts and Nevis   \n\n     BeerConsumptionTotalConsumption1000t2021  BeerConsumptionPerCapitakg2021  \\\n0                                      1474.0                            1.05   \n1                                     34979.0                           23.99   \n2                                     24563.0                           72.89   \n3                                       193.0                            0.71   \n4                                         8.0                            0.03   \n..                                        ...                             ...   \n177                                       1.0                           11.78   \n178                                       3.0                           29.63   \n179                                       3.0                           26.82   \n180                                       1.0                           13.19   \n181                                       1.0                           13.80   \n\n     beerConsumptionByCountry_consmPerCap2020  \\\n0                                      1401.0   \n1                                     33297.0   \n2                                     24263.0   \n3                                       191.0   \n4                                         8.0   \n..                                        ...   \n177                                       1.0   \n178                                       3.0   \n179                                       3.0   \n180                                       1.0   \n181                                       1.0   \n\n     beerConsumptionByCountry_consmPerCap  \n0                                    1.00  \n1                                   22.85  \n2                                   72.22  \n3                                    0.70  \n4                                    0.03  \n..                                    ...  \n177                                 13.00  \n178                                 25.43  \n179                                 32.38  \n180                                 16.87  \n181                                 21.13  \n\n[182 rows x 5 columns]",
      "text/html": "<div>\n<style scoped>\n    .dataframe tbody tr th:only-of-type {\n        vertical-align: middle;\n    }\n\n    .dataframe tbody tr th {\n        vertical-align: top;\n    }\n\n    .dataframe thead th {\n        text-align: right;\n    }\n</style>\n<table border=\"1\" class=\"dataframe\">\n  <thead>\n    <tr style=\"text-align: right;\">\n      <th></th>\n      <th>country</th>\n      <th>BeerConsumptionTotalConsumption1000t2021</th>\n      <th>BeerConsumptionPerCapitakg2021</th>\n      <th>beerConsumptionByCountry_consmPerCap2020</th>\n      <th>beerConsumptionByCountry_consmPerCap</th>\n    </tr>\n  </thead>\n  <tbody>\n    <tr>\n      <th>0</th>\n      <td>India</td>\n      <td>1474.0</td>\n      <td>1.05</td>\n      <td>1401.0</td>\n      <td>1.00</td>\n    </tr>\n    <tr>\n      <th>1</th>\n      <td>China</td>\n      <td>34979.0</td>\n      <td>23.99</td>\n      <td>33297.0</td>\n      <td>22.85</td>\n    </tr>\n    <tr>\n      <th>2</th>\n      <td>United States</td>\n      <td>24563.0</td>\n      <td>72.89</td>\n      <td>24263.0</td>\n      <td>72.22</td>\n    </tr>\n    <tr>\n      <th>3</th>\n      <td>Indonesia</td>\n      <td>193.0</td>\n      <td>0.71</td>\n      <td>191.0</td>\n      <td>0.70</td>\n    </tr>\n    <tr>\n      <th>4</th>\n      <td>Pakistan</td>\n      <td>8.0</td>\n      <td>0.03</td>\n      <td>8.0</td>\n      <td>0.03</td>\n    </tr>\n    <tr>\n      <th>...</th>\n      <td>...</td>\n      <td>...</td>\n      <td>...</td>\n      <td>...</td>\n      <td>...</td>\n    </tr>\n    <tr>\n      <th>177</th>\n      <td>Micronesia</td>\n      <td>1.0</td>\n      <td>11.78</td>\n      <td>1.0</td>\n      <td>13.00</td>\n    </tr>\n    <tr>\n      <th>178</th>\n      <td>Saint Vincent and the Grenadines</td>\n      <td>3.0</td>\n      <td>29.63</td>\n      <td>3.0</td>\n      <td>25.43</td>\n    </tr>\n    <tr>\n      <th>179</th>\n      <td>Antigua and Barbuda</td>\n      <td>3.0</td>\n      <td>26.82</td>\n      <td>3.0</td>\n      <td>32.38</td>\n    </tr>\n    <tr>\n      <th>180</th>\n      <td>Dominica</td>\n      <td>1.0</td>\n      <td>13.19</td>\n      <td>1.0</td>\n      <td>16.87</td>\n    </tr>\n    <tr>\n      <th>181</th>\n      <td>Saint Kitts and Nevis</td>\n      <td>1.0</td>\n      <td>13.80</td>\n      <td>1.0</td>\n      <td>21.13</td>\n    </tr>\n  </tbody>\n</table>\n<p>182 rows × 5 columns</p>\n</div>"
     },
     "execution_count": 31,
     "metadata": {},
     "output_type": "execute_result"
    }
   ],
   "source": [
    "beerConsumption_PATH = 'data/BeerConsumption.csv'\n",
    "\n",
    "beerConsumption_df = pd.read_csv(beerConsumption_PATH)\n",
    "print(beerConsumption_df.columns)\n",
    "beerConsumption_df"
   ],
   "metadata": {
    "collapsed": false
   }
  },
  {
   "cell_type": "code",
   "execution_count": 32,
   "outputs": [
    {
     "data": {
      "text/plain": "          id                       location  \\\n0      39912                     Kyrgyzstan   \n1      39913                     Kyrgyzstan   \n2      39914                     Kyrgyzstan   \n3      39915                     Kyrgyzstan   \n4      39916                     Kyrgyzstan   \n...      ...                            ...   \n16753    128                        Germany   \n16754   5023                          Aruba   \n16755   1573        United States, New York   \n16756  16186  United States, North Carolina   \n16757   1138        United States, Maryland   \n\n                                     name  nbr_beers  \n0                  Abdysh-Ata (Абдыш Ата)          5  \n1                             Arpa (АРПА)          1  \n2                               Bear Beer          4  \n3                             Blonder Pub          4  \n4                            Kellers Bier          2  \n...                                   ...        ...  \n16753  Privatbrauerei Franz Joseph Sailer          6  \n16754                       Aruba Brewing          0  \n16755  John Harvard’s Brewery & Ale House        491  \n16756            Triangle Brewing Company         20  \n16757             South Baltimore Brewing          0  \n\n[16758 rows x 4 columns]",
      "text/html": "<div>\n<style scoped>\n    .dataframe tbody tr th:only-of-type {\n        vertical-align: middle;\n    }\n\n    .dataframe tbody tr th {\n        vertical-align: top;\n    }\n\n    .dataframe thead th {\n        text-align: right;\n    }\n</style>\n<table border=\"1\" class=\"dataframe\">\n  <thead>\n    <tr style=\"text-align: right;\">\n      <th></th>\n      <th>id</th>\n      <th>location</th>\n      <th>name</th>\n      <th>nbr_beers</th>\n    </tr>\n  </thead>\n  <tbody>\n    <tr>\n      <th>0</th>\n      <td>39912</td>\n      <td>Kyrgyzstan</td>\n      <td>Abdysh-Ata (Абдыш Ата)</td>\n      <td>5</td>\n    </tr>\n    <tr>\n      <th>1</th>\n      <td>39913</td>\n      <td>Kyrgyzstan</td>\n      <td>Arpa (АРПА)</td>\n      <td>1</td>\n    </tr>\n    <tr>\n      <th>2</th>\n      <td>39914</td>\n      <td>Kyrgyzstan</td>\n      <td>Bear Beer</td>\n      <td>4</td>\n    </tr>\n    <tr>\n      <th>3</th>\n      <td>39915</td>\n      <td>Kyrgyzstan</td>\n      <td>Blonder Pub</td>\n      <td>4</td>\n    </tr>\n    <tr>\n      <th>4</th>\n      <td>39916</td>\n      <td>Kyrgyzstan</td>\n      <td>Kellers Bier</td>\n      <td>2</td>\n    </tr>\n    <tr>\n      <th>...</th>\n      <td>...</td>\n      <td>...</td>\n      <td>...</td>\n      <td>...</td>\n    </tr>\n    <tr>\n      <th>16753</th>\n      <td>128</td>\n      <td>Germany</td>\n      <td>Privatbrauerei Franz Joseph Sailer</td>\n      <td>6</td>\n    </tr>\n    <tr>\n      <th>16754</th>\n      <td>5023</td>\n      <td>Aruba</td>\n      <td>Aruba Brewing</td>\n      <td>0</td>\n    </tr>\n    <tr>\n      <th>16755</th>\n      <td>1573</td>\n      <td>United States, New York</td>\n      <td>John Harvard’s Brewery &amp; Ale House</td>\n      <td>491</td>\n    </tr>\n    <tr>\n      <th>16756</th>\n      <td>16186</td>\n      <td>United States, North Carolina</td>\n      <td>Triangle Brewing Company</td>\n      <td>20</td>\n    </tr>\n    <tr>\n      <th>16757</th>\n      <td>1138</td>\n      <td>United States, Maryland</td>\n      <td>South Baltimore Brewing</td>\n      <td>0</td>\n    </tr>\n  </tbody>\n</table>\n<p>16758 rows × 4 columns</p>\n</div>"
     },
     "execution_count": 32,
     "metadata": {},
     "output_type": "execute_result"
    }
   ],
   "source": [
    "breweries_PATH = 'data/Dataset/BeerAdvocate/breweries.csv'\n",
    "\n",
    "breweries_df = pd.read_csv(breweries_PATH)\n",
    "breweries_df"
   ],
   "metadata": {
    "collapsed": false
   }
  },
  {
   "cell_type": "code",
   "execution_count": 33,
   "outputs": [
    {
     "data": {
      "text/plain": "             beer_name  beer_id                               brewery_name  \\\n0                Régab   142544  Societe des Brasseries du Gabon (SOBRAGA)   \n1        Barelegs Brew    19590       Strangford Lough Brewing Company Ltd   \n2        Barelegs Brew    19590       Strangford Lough Brewing Company Ltd   \n3        Barelegs Brew    19590       Strangford Lough Brewing Company Ltd   \n4        Barelegs Brew    19590       Strangford Lough Brewing Company Ltd   \n...                ...      ...                                        ...   \n8393027     Kölsch Ale    19139        Summit Station Restaurant & Brewery   \n8393028     Kölsch Ale    19139        Summit Station Restaurant & Brewery   \n8393029     Kölsch Ale    19139        Summit Station Restaurant & Brewery   \n8393030  Nut Brown Ale    19140        Summit Station Restaurant & Brewery   \n8393031  Nut Brown Ale    19140        Summit Station Restaurant & Brewery   \n\n         brewery_id              style  abv        date        user_name  \\\n0             37262    Euro Pale Lager  4.5  1440064800          nmann08   \n1             10093   English Pale Ale  4.5  1235127600      StJamesGate   \n2             10093   English Pale Ale  4.5  1142247600          mdagnew   \n3             10093   English Pale Ale  4.5  1101898800  helloloser12345   \n4             10093   English Pale Ale  4.5  1093860000       cypressbob   \n...             ...                ...  ...         ...              ...   \n8393027         885             Kölsch  5.0  1141038000          jaluria   \n8393028         885             Kölsch  5.0  1140346800        Dithyramb   \n8393029         885             Kölsch  5.0  1092132000       ManekiNeko   \n8393030         885  English Brown Ale  5.3  1341741600       Redsox1539   \n8393031         885  English Brown Ale  5.3  1140346800        Dithyramb   \n\n                       user_id  appearance  aroma  palate  taste  overall  \\\n0               nmann08.184925        3.25   2.75    3.25   2.75      3.0   \n1           stjamesgate.163714        3.00   3.50    3.50   4.00      3.5   \n2                mdagnew.19527        4.00   3.50    3.50   4.00      3.5   \n3        helloloser12345.10867        4.00   3.50    4.00   4.00      4.5   \n4              cypressbob.3708        4.00   4.00    4.00   4.00      4.0   \n...                        ...         ...    ...     ...    ...      ...   \n8393027          jaluria.31362        3.50   3.50    3.50   4.00      4.0   \n8393028         dithyramb.4413        3.00   3.00    3.00   2.50      3.0   \n8393029        manekineko.2654        3.00   1.50    1.00   1.50      1.5   \n8393030      redsox1539.683632         NaN    NaN     NaN    NaN      NaN   \n8393031         dithyramb.4413        3.00   3.00    3.00   3.00      3.0   \n\n         rating                                               text  review  \n0          2.88  From a bottle, pours a piss yellow color with ...    True  \n1          3.67  Pours pale copper with a thin head that quickl...    True  \n2          3.73  500ml Bottle bought from The Vintage, Antrim.....    True  \n3          3.98  Serving: 500ml brown bottlePour: Good head wit...    True  \n4          4.00  500ml bottlePours with a light, slightly hazy ...    True  \n...         ...                                                ...     ...  \n8393027    3.80  I'll start off reviewing this beer with the fo...    True  \n8393028    2.80  Served on draft at the pub. Poured a clear yel...    True  \n8393029    1.54  Served on tap at the brewpub in a pint glass.A...    True  \n8393030    3.50                                                NaN   False  \n8393031    3.00  Dark brown brew served on tap at the brewpub. ...    True  \n\n[8393032 rows x 17 columns]",
      "text/html": "<div>\n<style scoped>\n    .dataframe tbody tr th:only-of-type {\n        vertical-align: middle;\n    }\n\n    .dataframe tbody tr th {\n        vertical-align: top;\n    }\n\n    .dataframe thead th {\n        text-align: right;\n    }\n</style>\n<table border=\"1\" class=\"dataframe\">\n  <thead>\n    <tr style=\"text-align: right;\">\n      <th></th>\n      <th>beer_name</th>\n      <th>beer_id</th>\n      <th>brewery_name</th>\n      <th>brewery_id</th>\n      <th>style</th>\n      <th>abv</th>\n      <th>date</th>\n      <th>user_name</th>\n      <th>user_id</th>\n      <th>appearance</th>\n      <th>aroma</th>\n      <th>palate</th>\n      <th>taste</th>\n      <th>overall</th>\n      <th>rating</th>\n      <th>text</th>\n      <th>review</th>\n    </tr>\n  </thead>\n  <tbody>\n    <tr>\n      <th>0</th>\n      <td>Régab</td>\n      <td>142544</td>\n      <td>Societe des Brasseries du Gabon (SOBRAGA)</td>\n      <td>37262</td>\n      <td>Euro Pale Lager</td>\n      <td>4.5</td>\n      <td>1440064800</td>\n      <td>nmann08</td>\n      <td>nmann08.184925</td>\n      <td>3.25</td>\n      <td>2.75</td>\n      <td>3.25</td>\n      <td>2.75</td>\n      <td>3.0</td>\n      <td>2.88</td>\n      <td>From a bottle, pours a piss yellow color with ...</td>\n      <td>True</td>\n    </tr>\n    <tr>\n      <th>1</th>\n      <td>Barelegs Brew</td>\n      <td>19590</td>\n      <td>Strangford Lough Brewing Company Ltd</td>\n      <td>10093</td>\n      <td>English Pale Ale</td>\n      <td>4.5</td>\n      <td>1235127600</td>\n      <td>StJamesGate</td>\n      <td>stjamesgate.163714</td>\n      <td>3.00</td>\n      <td>3.50</td>\n      <td>3.50</td>\n      <td>4.00</td>\n      <td>3.5</td>\n      <td>3.67</td>\n      <td>Pours pale copper with a thin head that quickl...</td>\n      <td>True</td>\n    </tr>\n    <tr>\n      <th>2</th>\n      <td>Barelegs Brew</td>\n      <td>19590</td>\n      <td>Strangford Lough Brewing Company Ltd</td>\n      <td>10093</td>\n      <td>English Pale Ale</td>\n      <td>4.5</td>\n      <td>1142247600</td>\n      <td>mdagnew</td>\n      <td>mdagnew.19527</td>\n      <td>4.00</td>\n      <td>3.50</td>\n      <td>3.50</td>\n      <td>4.00</td>\n      <td>3.5</td>\n      <td>3.73</td>\n      <td>500ml Bottle bought from The Vintage, Antrim.....</td>\n      <td>True</td>\n    </tr>\n    <tr>\n      <th>3</th>\n      <td>Barelegs Brew</td>\n      <td>19590</td>\n      <td>Strangford Lough Brewing Company Ltd</td>\n      <td>10093</td>\n      <td>English Pale Ale</td>\n      <td>4.5</td>\n      <td>1101898800</td>\n      <td>helloloser12345</td>\n      <td>helloloser12345.10867</td>\n      <td>4.00</td>\n      <td>3.50</td>\n      <td>4.00</td>\n      <td>4.00</td>\n      <td>4.5</td>\n      <td>3.98</td>\n      <td>Serving: 500ml brown bottlePour: Good head wit...</td>\n      <td>True</td>\n    </tr>\n    <tr>\n      <th>4</th>\n      <td>Barelegs Brew</td>\n      <td>19590</td>\n      <td>Strangford Lough Brewing Company Ltd</td>\n      <td>10093</td>\n      <td>English Pale Ale</td>\n      <td>4.5</td>\n      <td>1093860000</td>\n      <td>cypressbob</td>\n      <td>cypressbob.3708</td>\n      <td>4.00</td>\n      <td>4.00</td>\n      <td>4.00</td>\n      <td>4.00</td>\n      <td>4.0</td>\n      <td>4.00</td>\n      <td>500ml bottlePours with a light, slightly hazy ...</td>\n      <td>True</td>\n    </tr>\n    <tr>\n      <th>...</th>\n      <td>...</td>\n      <td>...</td>\n      <td>...</td>\n      <td>...</td>\n      <td>...</td>\n      <td>...</td>\n      <td>...</td>\n      <td>...</td>\n      <td>...</td>\n      <td>...</td>\n      <td>...</td>\n      <td>...</td>\n      <td>...</td>\n      <td>...</td>\n      <td>...</td>\n      <td>...</td>\n      <td>...</td>\n    </tr>\n    <tr>\n      <th>8393027</th>\n      <td>Kölsch Ale</td>\n      <td>19139</td>\n      <td>Summit Station Restaurant &amp; Brewery</td>\n      <td>885</td>\n      <td>Kölsch</td>\n      <td>5.0</td>\n      <td>1141038000</td>\n      <td>jaluria</td>\n      <td>jaluria.31362</td>\n      <td>3.50</td>\n      <td>3.50</td>\n      <td>3.50</td>\n      <td>4.00</td>\n      <td>4.0</td>\n      <td>3.80</td>\n      <td>I'll start off reviewing this beer with the fo...</td>\n      <td>True</td>\n    </tr>\n    <tr>\n      <th>8393028</th>\n      <td>Kölsch Ale</td>\n      <td>19139</td>\n      <td>Summit Station Restaurant &amp; Brewery</td>\n      <td>885</td>\n      <td>Kölsch</td>\n      <td>5.0</td>\n      <td>1140346800</td>\n      <td>Dithyramb</td>\n      <td>dithyramb.4413</td>\n      <td>3.00</td>\n      <td>3.00</td>\n      <td>3.00</td>\n      <td>2.50</td>\n      <td>3.0</td>\n      <td>2.80</td>\n      <td>Served on draft at the pub. Poured a clear yel...</td>\n      <td>True</td>\n    </tr>\n    <tr>\n      <th>8393029</th>\n      <td>Kölsch Ale</td>\n      <td>19139</td>\n      <td>Summit Station Restaurant &amp; Brewery</td>\n      <td>885</td>\n      <td>Kölsch</td>\n      <td>5.0</td>\n      <td>1092132000</td>\n      <td>ManekiNeko</td>\n      <td>manekineko.2654</td>\n      <td>3.00</td>\n      <td>1.50</td>\n      <td>1.00</td>\n      <td>1.50</td>\n      <td>1.5</td>\n      <td>1.54</td>\n      <td>Served on tap at the brewpub in a pint glass.A...</td>\n      <td>True</td>\n    </tr>\n    <tr>\n      <th>8393030</th>\n      <td>Nut Brown Ale</td>\n      <td>19140</td>\n      <td>Summit Station Restaurant &amp; Brewery</td>\n      <td>885</td>\n      <td>English Brown Ale</td>\n      <td>5.3</td>\n      <td>1341741600</td>\n      <td>Redsox1539</td>\n      <td>redsox1539.683632</td>\n      <td>NaN</td>\n      <td>NaN</td>\n      <td>NaN</td>\n      <td>NaN</td>\n      <td>NaN</td>\n      <td>3.50</td>\n      <td>NaN</td>\n      <td>False</td>\n    </tr>\n    <tr>\n      <th>8393031</th>\n      <td>Nut Brown Ale</td>\n      <td>19140</td>\n      <td>Summit Station Restaurant &amp; Brewery</td>\n      <td>885</td>\n      <td>English Brown Ale</td>\n      <td>5.3</td>\n      <td>1140346800</td>\n      <td>Dithyramb</td>\n      <td>dithyramb.4413</td>\n      <td>3.00</td>\n      <td>3.00</td>\n      <td>3.00</td>\n      <td>3.00</td>\n      <td>3.0</td>\n      <td>3.00</td>\n      <td>Dark brown brew served on tap at the brewpub. ...</td>\n      <td>True</td>\n    </tr>\n  </tbody>\n</table>\n<p>8393032 rows × 17 columns</p>\n</div>"
     },
     "execution_count": 33,
     "metadata": {},
     "output_type": "execute_result"
    }
   ],
   "source": [
    "rating_PATH = 'data/Dataset/BeerAdvocate/ratings.csv'\n",
    "\n",
    "ratings_df = pd.read_csv(rating_PATH)\n",
    "ratings_df"
   ],
   "metadata": {
    "collapsed": false
   }
  },
  {
   "cell_type": "code",
   "execution_count": 34,
   "outputs": [
    {
     "data": {
      "text/plain": "                          beer_name  beer_id                brewery_name  \\\n154             Caffrey's Irish Ale      825  Thomas Caffrey Brewing Co.   \n155             Caffrey's Irish Ale      825  Thomas Caffrey Brewing Co.   \n156             Caffrey's Irish Ale      825  Thomas Caffrey Brewing Co.   \n157             Caffrey's Irish Ale      825  Thomas Caffrey Brewing Co.   \n158             Caffrey's Irish Ale      825  Thomas Caffrey Brewing Co.   \n...                             ...      ...                         ...   \n8392198  Michigan Brewing Wheatland     3832    Michigan Brewing Company   \n8392199  Michigan Brewing Wheatland     3832    Michigan Brewing Company   \n8392200  Michigan Brewing Wheatland     3832    Michigan Brewing Company   \n8392201  Michigan Brewing Wheatland     3832    Michigan Brewing Company   \n8392266               Buckeye Brown     8952        Ohio Brewing Company   \n\n         brewery_id              style  abv        date        user_name  \\\n154             297      Irish Red Ale  3.8  1500112800  GregKobeArntz24   \n155             297      Irish Red Ale  3.8  1483182000           awjess   \n156             297      Irish Red Ale  3.8  1468317600          fr0wn3r   \n157             297      Irish Red Ale  3.8  1459418400       Fatehunter   \n158             297      Irish Red Ale  3.8  1450263600           MTLDOG   \n...             ...                ...  ...         ...              ...   \n8392198         565         Hefeweizen  5.0  1128506400          ypsifly   \n8392199         565         Hefeweizen  5.0  1078138800          jsolack   \n8392200         565         Hefeweizen  5.0  1070622000   DrunkMcDermott   \n8392201         565         Hefeweizen  5.0  1052042400        Mitchster   \n8392266        4210  English Brown Ale  NaN  1047726000         Dogbrick   \n\n                         user_id  appearance  ...  palate  taste  overall  \\\n154      gregkobearntz24.1206160         4.5  ...    4.25    4.5     4.50   \n155               awjess.1185716         4.5  ...    4.25    4.0     4.25   \n156               fr0wn3r.862994         3.0  ...    3.00    3.0     3.00   \n157            fatehunter.326927         4.0  ...    4.00    3.5     3.50   \n158                mtldog.920333         4.5  ...    4.00    3.0     3.75   \n...                          ...         ...  ...     ...    ...      ...   \n8392198             ypsifly.8833         3.5  ...    3.50    4.0     4.00   \n8392199             jsolack.4869         3.0  ...    4.00    3.5     4.00   \n8392200      drunkmcdermott.2577         4.0  ...    3.00    3.5     3.50   \n8392201           mitchster.1235         4.0  ...    4.50    4.0     4.00   \n8392266             dogbrick.487         4.0  ...    2.00    2.0     2.50   \n\n         rating                                               text review  \\\n154        4.54                                                NaN  False   \n155        4.11  Look - Has a nice foamy head,   Feel - Creamy ...  False   \n156        3.06                                                NaN  False   \n157        3.52  Pours a finger of head on a hazy darker straw ...   True   \n158        3.52                                                NaN  False   \n...         ...                                                ...    ...   \n8392198    3.80  Undated 12oz pored into a weizen.Hazed gold wi...   True   \n8392199    3.50  Appearance:Beer has a hazy pale yellow color. ...   True   \n8392200    3.36  Served at the brewery taproom. Yes, it's a ver...   True   \n8392201    4.05  Cloudy, straw-golden with a thin white head at...   True   \n8392266    2.58  Found at the Wine Vault in Dublin, OH. This br...   True   \n\n            id                   location                    name nbr_beers  \n154       6577                    England         Titanic Brewery        44  \n155       6577                    England         Titanic Brewery        44  \n156       6577                    England         Titanic Brewery        44  \n157       6577                    England         Titanic Brewery        44  \n158       6577                    England         Titanic Brewery        44  \n...        ...                        ...                     ...       ...  \n8392198   5801                    Germany  Brauerei A. Goldschadt         0  \n8392199   5801                    Germany  Brauerei A. Goldschadt         0  \n8392200   5801                    Germany  Brauerei A. Goldschadt         0  \n8392201   5801                    Germany  Brauerei A. Goldschadt         0  \n8392266  46332  United States, California     Ocean Beach Brewery         7  \n\n[2413722 rows x 21 columns]",
      "text/html": "<div>\n<style scoped>\n    .dataframe tbody tr th:only-of-type {\n        vertical-align: middle;\n    }\n\n    .dataframe tbody tr th {\n        vertical-align: top;\n    }\n\n    .dataframe thead th {\n        text-align: right;\n    }\n</style>\n<table border=\"1\" class=\"dataframe\">\n  <thead>\n    <tr style=\"text-align: right;\">\n      <th></th>\n      <th>beer_name</th>\n      <th>beer_id</th>\n      <th>brewery_name</th>\n      <th>brewery_id</th>\n      <th>style</th>\n      <th>abv</th>\n      <th>date</th>\n      <th>user_name</th>\n      <th>user_id</th>\n      <th>appearance</th>\n      <th>...</th>\n      <th>palate</th>\n      <th>taste</th>\n      <th>overall</th>\n      <th>rating</th>\n      <th>text</th>\n      <th>review</th>\n      <th>id</th>\n      <th>location</th>\n      <th>name</th>\n      <th>nbr_beers</th>\n    </tr>\n  </thead>\n  <tbody>\n    <tr>\n      <th>154</th>\n      <td>Caffrey's Irish Ale</td>\n      <td>825</td>\n      <td>Thomas Caffrey Brewing Co.</td>\n      <td>297</td>\n      <td>Irish Red Ale</td>\n      <td>3.8</td>\n      <td>1500112800</td>\n      <td>GregKobeArntz24</td>\n      <td>gregkobearntz24.1206160</td>\n      <td>4.5</td>\n      <td>...</td>\n      <td>4.25</td>\n      <td>4.5</td>\n      <td>4.50</td>\n      <td>4.54</td>\n      <td>NaN</td>\n      <td>False</td>\n      <td>6577</td>\n      <td>England</td>\n      <td>Titanic Brewery</td>\n      <td>44</td>\n    </tr>\n    <tr>\n      <th>155</th>\n      <td>Caffrey's Irish Ale</td>\n      <td>825</td>\n      <td>Thomas Caffrey Brewing Co.</td>\n      <td>297</td>\n      <td>Irish Red Ale</td>\n      <td>3.8</td>\n      <td>1483182000</td>\n      <td>awjess</td>\n      <td>awjess.1185716</td>\n      <td>4.5</td>\n      <td>...</td>\n      <td>4.25</td>\n      <td>4.0</td>\n      <td>4.25</td>\n      <td>4.11</td>\n      <td>Look - Has a nice foamy head,   Feel - Creamy ...</td>\n      <td>False</td>\n      <td>6577</td>\n      <td>England</td>\n      <td>Titanic Brewery</td>\n      <td>44</td>\n    </tr>\n    <tr>\n      <th>156</th>\n      <td>Caffrey's Irish Ale</td>\n      <td>825</td>\n      <td>Thomas Caffrey Brewing Co.</td>\n      <td>297</td>\n      <td>Irish Red Ale</td>\n      <td>3.8</td>\n      <td>1468317600</td>\n      <td>fr0wn3r</td>\n      <td>fr0wn3r.862994</td>\n      <td>3.0</td>\n      <td>...</td>\n      <td>3.00</td>\n      <td>3.0</td>\n      <td>3.00</td>\n      <td>3.06</td>\n      <td>NaN</td>\n      <td>False</td>\n      <td>6577</td>\n      <td>England</td>\n      <td>Titanic Brewery</td>\n      <td>44</td>\n    </tr>\n    <tr>\n      <th>157</th>\n      <td>Caffrey's Irish Ale</td>\n      <td>825</td>\n      <td>Thomas Caffrey Brewing Co.</td>\n      <td>297</td>\n      <td>Irish Red Ale</td>\n      <td>3.8</td>\n      <td>1459418400</td>\n      <td>Fatehunter</td>\n      <td>fatehunter.326927</td>\n      <td>4.0</td>\n      <td>...</td>\n      <td>4.00</td>\n      <td>3.5</td>\n      <td>3.50</td>\n      <td>3.52</td>\n      <td>Pours a finger of head on a hazy darker straw ...</td>\n      <td>True</td>\n      <td>6577</td>\n      <td>England</td>\n      <td>Titanic Brewery</td>\n      <td>44</td>\n    </tr>\n    <tr>\n      <th>158</th>\n      <td>Caffrey's Irish Ale</td>\n      <td>825</td>\n      <td>Thomas Caffrey Brewing Co.</td>\n      <td>297</td>\n      <td>Irish Red Ale</td>\n      <td>3.8</td>\n      <td>1450263600</td>\n      <td>MTLDOG</td>\n      <td>mtldog.920333</td>\n      <td>4.5</td>\n      <td>...</td>\n      <td>4.00</td>\n      <td>3.0</td>\n      <td>3.75</td>\n      <td>3.52</td>\n      <td>NaN</td>\n      <td>False</td>\n      <td>6577</td>\n      <td>England</td>\n      <td>Titanic Brewery</td>\n      <td>44</td>\n    </tr>\n    <tr>\n      <th>...</th>\n      <td>...</td>\n      <td>...</td>\n      <td>...</td>\n      <td>...</td>\n      <td>...</td>\n      <td>...</td>\n      <td>...</td>\n      <td>...</td>\n      <td>...</td>\n      <td>...</td>\n      <td>...</td>\n      <td>...</td>\n      <td>...</td>\n      <td>...</td>\n      <td>...</td>\n      <td>...</td>\n      <td>...</td>\n      <td>...</td>\n      <td>...</td>\n      <td>...</td>\n      <td>...</td>\n    </tr>\n    <tr>\n      <th>8392198</th>\n      <td>Michigan Brewing Wheatland</td>\n      <td>3832</td>\n      <td>Michigan Brewing Company</td>\n      <td>565</td>\n      <td>Hefeweizen</td>\n      <td>5.0</td>\n      <td>1128506400</td>\n      <td>ypsifly</td>\n      <td>ypsifly.8833</td>\n      <td>3.5</td>\n      <td>...</td>\n      <td>3.50</td>\n      <td>4.0</td>\n      <td>4.00</td>\n      <td>3.80</td>\n      <td>Undated 12oz pored into a weizen.Hazed gold wi...</td>\n      <td>True</td>\n      <td>5801</td>\n      <td>Germany</td>\n      <td>Brauerei A. Goldschadt</td>\n      <td>0</td>\n    </tr>\n    <tr>\n      <th>8392199</th>\n      <td>Michigan Brewing Wheatland</td>\n      <td>3832</td>\n      <td>Michigan Brewing Company</td>\n      <td>565</td>\n      <td>Hefeweizen</td>\n      <td>5.0</td>\n      <td>1078138800</td>\n      <td>jsolack</td>\n      <td>jsolack.4869</td>\n      <td>3.0</td>\n      <td>...</td>\n      <td>4.00</td>\n      <td>3.5</td>\n      <td>4.00</td>\n      <td>3.50</td>\n      <td>Appearance:Beer has a hazy pale yellow color. ...</td>\n      <td>True</td>\n      <td>5801</td>\n      <td>Germany</td>\n      <td>Brauerei A. Goldschadt</td>\n      <td>0</td>\n    </tr>\n    <tr>\n      <th>8392200</th>\n      <td>Michigan Brewing Wheatland</td>\n      <td>3832</td>\n      <td>Michigan Brewing Company</td>\n      <td>565</td>\n      <td>Hefeweizen</td>\n      <td>5.0</td>\n      <td>1070622000</td>\n      <td>DrunkMcDermott</td>\n      <td>drunkmcdermott.2577</td>\n      <td>4.0</td>\n      <td>...</td>\n      <td>3.00</td>\n      <td>3.5</td>\n      <td>3.50</td>\n      <td>3.36</td>\n      <td>Served at the brewery taproom. Yes, it's a ver...</td>\n      <td>True</td>\n      <td>5801</td>\n      <td>Germany</td>\n      <td>Brauerei A. Goldschadt</td>\n      <td>0</td>\n    </tr>\n    <tr>\n      <th>8392201</th>\n      <td>Michigan Brewing Wheatland</td>\n      <td>3832</td>\n      <td>Michigan Brewing Company</td>\n      <td>565</td>\n      <td>Hefeweizen</td>\n      <td>5.0</td>\n      <td>1052042400</td>\n      <td>Mitchster</td>\n      <td>mitchster.1235</td>\n      <td>4.0</td>\n      <td>...</td>\n      <td>4.50</td>\n      <td>4.0</td>\n      <td>4.00</td>\n      <td>4.05</td>\n      <td>Cloudy, straw-golden with a thin white head at...</td>\n      <td>True</td>\n      <td>5801</td>\n      <td>Germany</td>\n      <td>Brauerei A. Goldschadt</td>\n      <td>0</td>\n    </tr>\n    <tr>\n      <th>8392266</th>\n      <td>Buckeye Brown</td>\n      <td>8952</td>\n      <td>Ohio Brewing Company</td>\n      <td>4210</td>\n      <td>English Brown Ale</td>\n      <td>NaN</td>\n      <td>1047726000</td>\n      <td>Dogbrick</td>\n      <td>dogbrick.487</td>\n      <td>4.0</td>\n      <td>...</td>\n      <td>2.00</td>\n      <td>2.0</td>\n      <td>2.50</td>\n      <td>2.58</td>\n      <td>Found at the Wine Vault in Dublin, OH. This br...</td>\n      <td>True</td>\n      <td>46332</td>\n      <td>United States, California</td>\n      <td>Ocean Beach Brewery</td>\n      <td>7</td>\n    </tr>\n  </tbody>\n</table>\n<p>2413722 rows × 21 columns</p>\n</div>"
     },
     "execution_count": 34,
     "metadata": {},
     "output_type": "execute_result"
    }
   ],
   "source": [
    "tmp_df = ratings_df.merge(breweries_df, left_on='beer_id', right_index=True)\n",
    "tmp_df"
   ],
   "metadata": {
    "collapsed": false
   }
  },
  {
   "cell_type": "code",
   "execution_count": 35,
   "outputs": [
    {
     "name": "stdout",
     "output_type": "stream",
     "text": [
      "Index(['beer_name', 'beer_id', 'brewery_name', 'brewery_id', 'style', 'abv',\n",
      "       'date', 'user_name', 'user_id', 'appearance', 'aroma', 'palate',\n",
      "       'taste', 'overall', 'rating', 'text', 'review', 'id', 'location',\n",
      "       'name', 'nbr_beers'],\n",
      "      dtype='object')\n",
      "Index(['country', 'BeerConsumptionTotalConsumption1000t2021',\n",
      "       'BeerConsumptionPerCapitakg2021',\n",
      "       'beerConsumptionByCountry_consmPerCap2020',\n",
      "       'beerConsumptionByCountry_consmPerCap'],\n",
      "      dtype='object')\n",
      "['England' 'Slovenia' 'United States, New York' 'United States, Florida'\n",
      " 'France' 'Portugal' 'Venezuela' 'Brazil' 'Germany'\n",
      " 'United States, Pennsylvania' 'United States, Texas' 'Austria'\n",
      " 'United States, Idaho' 'Belgium' 'Denmark' 'Canada' 'Sweden' 'Mexico'\n",
      " 'United States, Minnesota' 'United States, Missouri'\n",
      " 'United States, Arizona' 'United States, Connecticut'\n",
      " 'United States, Illinois' 'Scotland' 'Greece' 'Switzerland' 'Japan'\n",
      " 'United States, Oregon' 'Italy' 'Vietnam' 'United States, New Mexico'\n",
      " 'Saint Lucia' 'Poland' 'Wales' 'Australia' 'Albania'\n",
      " 'United States, North Carolina' 'Canada, British Columbia'\n",
      " 'United States, Maryland' 'China' 'United States, Massachusetts'\n",
      " 'Ecuador' 'United States, Maine' 'United States, Ohio' 'Czech Republic'\n",
      " 'United States, Nevada' 'United States, Michigan'\n",
      " 'United States, Vermont' 'Ukraine' 'United States, Wisconsin'\n",
      " 'United States, California' 'Norway' 'Finland' 'Serbia' 'Russia' 'Jordan'\n",
      " 'United States, Oklahoma' 'United States, Washington' 'New Zealand'\n",
      " 'Malta' 'Bulgaria' 'Netherlands' 'Spain' 'United States, Virginia'\n",
      " 'United States, Colorado' 'United States, Indiana' 'Cuba' 'Chile'\n",
      " 'Canada, Alberta' 'Lithuania' 'Costa Rica' 'United States, Georgia'\n",
      " 'United States, West Virginia' 'Ireland' 'Hungary' 'Chad' 'Croatia'\n",
      " 'Angola' 'Northern Ireland' 'United States, Hawaii'\n",
      " 'United States, Kentucky' 'Kazakhstan' 'United States, Louisiana'\n",
      " 'Namibia' 'Canada, Quebec' 'Estonia' 'United States, Alaska' 'Belarus'\n",
      " 'United States, Delaware' 'Philippines' 'United States, Utah'\n",
      " 'United States, New Jersey' 'French Polynesia' 'United Kingdom, England'\n",
      " 'North Korea' 'Argentina' 'United States, South Carolina' 'Armenia'\n",
      " 'Romania' 'United States, New Hampshire'\n",
      " 'United States</a> | <a href=\"http://maps.google.com/maps?oi=map&q=%2C+US\" target=\"_blank\">map</a><br><a href=\"http://capcitybrew.com\" target=\"_blank\">capcitybrew.com'\n",
      " 'UNKNOWN' 'Senegal' 'United States, Wyoming' 'United States, Alabama'\n",
      " 'South Africa' 'United States, Kansas' 'South Korea' 'Georgia' 'Gambia'\n",
      " 'Iceland' 'Uruguay' 'Malaysia' 'Lebanon' 'United States, Mississippi'\n",
      " 'United States</a> | <a href=\"http://maps.google.com/maps?oi=map&q=%2C+US\" target=\"_blank\">map</a><br><a href=\"http://herefordandhops.com\" target=\"_blank\">herefordandhops.com'\n",
      " 'Benin' 'Iran' 'India' 'Egypt' 'United States, South Dakota' 'Bahamas'\n",
      " 'United States</a> | <a href=\"http://maps.google.com/maps?oi=map&q=%2C+US\" target=\"_blank\">map</a><br><a href=\"http://snakeriverbrewing.com\" target=\"_blank\">snakeriverbrewing.com'\n",
      " 'United States, Iowa' 'Puerto Rico'\n",
      " 'United States</a> | <a href=\"http://maps.google.com/maps?oi=map&q=%2C+US\" target=\"_blank\">map</a><br><a href=\"http://weepingradish.com\" target=\"_blank\">weepingradish.com'\n",
      " 'United States, Nebraska' 'United States, Tennessee' 'Isle of Man'\n",
      " 'Taiwan' 'Canada, Manitoba'\n",
      " 'Illinois</a>, 60614-4939, <a href=\"/place/directory/9/US/\">United States'\n",
      " 'Cambodia' 'Libya' 'Cape Verde Islands' 'United States, Montana'\n",
      " 'Nigeria' 'United States, Arkansas'\n",
      " 'United States</a> | <a href=\"http://maps.google.com/maps?oi=map&q=%2C+US\" target=\"_blank\">map'\n",
      " 'United States, North Dakota' 'Canada, Nova Scotia' 'Kenya'\n",
      " 'Virgin Islands (U.S.)' 'Latvia' 'Colombia' 'Turkey' 'Slovak Republic'\n",
      " 'Panama' 'Bolivia' 'Macedonia' 'Canada, Ontario'\n",
      " 'United States</a> | <a href=\"http://maps.google.com/maps?oi=map&q=%2C+US\" target=\"_blank\">map</a><br><a href=\"http://shipyard.com\" target=\"_blank\">shipyard.com'\n",
      " 'Mongolia'\n",
      " 'United States</a> | <a href=\"http://maps.google.com/maps?oi=map&q=%2C+US\" target=\"_blank\">map</a><br><a href=\"http://triumphbrew.com\" target=\"_blank\">triumphbrew.com'\n",
      " 'United States, Rhode Island' 'Madagascar' 'Tajikistan'\n",
      " 'United Kingdom, Scotland' 'United Kingdom, Wales'\n",
      " 'United States</a> | <a href=\"http://maps.google.com/maps?oi=map&q=%2C+US\" target=\"_blank\">map</a><br><a href=\"http://barleysbrewing.com\" target=\"_blank\">barleysbrewing.com'\n",
      " 'Virgin Islands (British)' 'Israel' 'Paraguay' 'Tunisia'\n",
      " 'United States</a> | <a href=\"http://maps.google.com/maps?oi=map&q=%2C+US\" target=\"_blank\">map</a><br><a href=\"http://bluecorncafe.com\" target=\"_blank\">bluecorncafe.com'\n",
      " 'Fiji Islands' 'Algeria' 'Lesotho' 'Vanuatu' 'Hong Kong' 'Guernsey'\n",
      " 'Guinea-Bissau' 'Singapore' 'Montenegro' 'Honduras' 'Guam' 'Thailand'\n",
      " 'United States</a> | <a href=\"http://maps.google.com/maps?oi=map&q=%2C+US\" target=\"_blank\">map</a><br><a href=\"http://ilvicino.com\" target=\"_blank\">ilvicino.com'\n",
      " 'United States</a> | <a href=\"http://maps.google.com/maps?oi=map&q=%2C+US\" target=\"_blank\">map</a><br><a href=\"http://tiedhouse.com\" target=\"_blank\">tiedhouse.com'\n",
      " 'Cyprus' 'Peru' 'Kyrgyzstan' 'Gabon' 'Laos' 'Luxembourg'\n",
      " 'Antigua & Barbuda' 'Sri Lanka' 'United Arab Emirates' 'San Marino'\n",
      " 'Dominican Republic' 'Andorra' 'Botswana' 'Papua New Guinea' 'Macau'\n",
      " 'Nepal' 'Myanmar' 'Ivory Coast'\n",
      " 'United States</a> | <a href=\"http://maps.google.com/maps?oi=map&q=%2C+US\" target=\"_blank\">map</a><br><a href=\"http://empirebrewco.com\" target=\"_blank\">empirebrewco.com'\n",
      " 'Bosnia and Herzegovina' 'Guatemala' 'Aruba' 'Haiti' 'Tanzania' 'Monaco'\n",
      " 'Moldova' 'Ghana'\n",
      " 'United States</a> | <a href=\"http://maps.google.com/maps?oi=map&q=%2C+US\" target=\"_blank\">map</a><br><a href=\"http://sebagobrewing.com\" target=\"_blank\">sebagobrewing.com'\n",
      " 'Indonesia' 'Nicaragua' 'Morocco' 'El Salvador' 'French Guiana'\n",
      " 'Equatorial Guinea' 'Mozambique' 'Bhutan' 'Uzbekistan'\n",
      " 'United States</a> | <a href=\"http://maps.google.com/maps?oi=map&q=%2C+US\" target=\"_blank\">map</a><br><a href=\"http://tworows.com\" target=\"_blank\">tworows.com'\n",
      " 'Reunion' 'Uganda' 'Mauritius' 'Greenland' 'Central African Republic'\n",
      " 'Iraq' 'Faroe Islands'\n",
      " 'United States</a> | <a href=\"http://maps.google.com/maps?oi=map&q=%2C+US\" target=\"_blank\">map</a><br><a href=\"http://seadogbrewing.com\" target=\"_blank\">seadogbrewing.com'\n",
      " 'United States</a> | <a href=\"http://maps.google.com/maps?oi=map&q=%2C+US\" target=\"_blank\">map</a><br><a href=\"http://mcmenamins.com\" target=\"_blank\">mcmenamins.com'\n",
      " 'Turkmenistan'\n",
      " 'United States</a> | <a href=\"http://maps.google.com/maps?oi=map&q=%2C+US\" target=\"_blank\">map</a><br><a href=\"http://mendobrew.com\" target=\"_blank\">mendobrew.com'\n",
      " 'Trinidad & Tobago' 'Cook Islands'\n",
      " 'United States</a> | <a href=\"http://maps.google.com/maps?oi=map&q=%2C+US\" target=\"_blank\">map</a><br><a href=\"http://thirstydog.com\" target=\"_blank\">thirstydog.com'\n",
      " 'Dominica' 'Jamaica' 'Liberia' 'Azerbaijan'\n",
      " 'United States</a> | <a href=\"http://maps.google.com/maps?oi=map&q=%2C+US\" target=\"_blank\">map</a><br><a href=\"http://rockbottom.com\" target=\"_blank\">rockbottom.com'\n",
      " 'Curaçao' 'Saint Vincent and The Grenadines' 'Guinea' 'Palestine'\n",
      " 'Solomon Islands' 'Canada, New Brunswick'\n",
      " 'United States</a> | <a href=\"http://maps.google.com/maps?oi=map&q=%2C+US\" target=\"_blank\">map</a><br><a href=\"http://bigbuck.com\" target=\"_blank\">bigbuck.com'\n",
      " 'United States</a> | <a href=\"http://maps.google.com/maps?oi=map&q=%2C+US\" target=\"_blank\">map</a><br><a href=\"http://steelheadbrewingco.com\" target=\"_blank\">steelheadbrewingco.com'\n",
      " 'Micronesia'\n",
      " 'Utah</a><br><a href=\"http://utahbeers.com\" target=\"_blank\">utahbeers.com'\n",
      " 'United States</a> | <a href=\"http://maps.google.com/maps?oi=map&q=%2C+US\" target=\"_blank\">map</a><br><a href=\"http://hopsonline.com\" target=\"_blank\">hopsonline.com'\n",
      " 'Jersey' 'Congo' 'Cameroon' 'Burkina Faso' 'Zambia' 'Tonga' 'Zimbabwe'\n",
      " 'Samoa' 'Seychelles' 'New Caledonia' 'Bangladesh' 'Syria' 'Ethiopia'\n",
      " 'Pakistan' 'Liechtenstein' 'Barbados' 'Canada, Saskatchewan'\n",
      " 'United States</a> | <a href=\"http://maps.google.com/maps?oi=map&q=%2C+US\" target=\"_blank\">map</a><br><a href=\"http://ironhillbrewery.com\" target=\"_blank\">ironhillbrewery.com'\n",
      " 'United States</a> | <a href=\"http://maps.google.com/maps?oi=map&q=%2C+US\" target=\"_blank\">map</a><br><a href=\"http://fullsailbrewing.com\" target=\"_blank\">fullsailbrewing.com'\n",
      " 'Guadeloupe' 'Martinique' 'Grenada' 'United States, United States'\n",
      " 'Swaziland' 'South Sudan' 'Bermuda'\n",
      " 'United States</a> | <a href=\"http://maps.google.com/maps?oi=map&q=%2C+US\" target=\"_blank\">map</a><br><a href=\"http://sonorabrew.com\" target=\"_blank\">sonorabrew.com'\n",
      " 'Canada, Newfoundland and Labrador' 'Sao Tome and Principe']\n",
      "['India' 'China' 'United States' 'Indonesia' 'Pakistan' 'Nigeria' 'Brazil'\n",
      " 'Bangladesh' 'Russia' 'Ethiopia' 'Mexico' 'Japan' 'Egypt' 'Philippines'\n",
      " 'DR Congo' 'Vietnam' 'Iran' 'Turkey' 'Germany' 'Thailand'\n",
      " 'United Kingdom' 'Tanzania' 'France' 'South Africa' 'Italy' 'Kenya'\n",
      " 'Myanmar' 'Colombia' 'South Korea' 'Sudan' 'Uganda' 'Spain' 'Algeria'\n",
      " 'Iraq' 'Argentina' 'Afghanistan' 'Canada' 'Poland' 'Morocco' 'Angola'\n",
      " 'Ukraine' 'Uzbekistan' 'Malaysia' 'Mozambique' 'Ghana' 'Peru'\n",
      " 'Madagascar' 'Ivory Coast' 'Nepal' 'Cameroon' 'Venezuela' 'Niger'\n",
      " 'Australia' 'North Korea' 'Syria' 'Mali' 'Burkina Faso' 'Taiwan'\n",
      " 'Sri Lanka' 'Malawi' 'Zambia' 'Kazakhstan' 'Chad' 'Chile' 'Romania'\n",
      " 'Senegal' 'Guatemala' 'Netherlands' 'Ecuador' 'Cambodia' 'Zimbabwe'\n",
      " 'Guinea' 'Benin' 'Rwanda' 'Burundi' 'Bolivia' 'Tunisia' 'South Sudan'\n",
      " 'Haiti' 'Belgium' 'Jordan' 'Dominican Republic' 'United Arab Emirates'\n",
      " 'Cuba' 'Honduras' 'Czech Republic' 'Sweden' 'Tajikistan'\n",
      " 'Papua New Guinea' 'Portugal' 'Azerbaijan' 'Greece' 'Hungary' 'Togo'\n",
      " 'Israel' 'Austria' 'Belarus' 'Switzerland' 'Sierra Leone' 'Laos'\n",
      " 'Turkmenistan' 'Hong Kong' 'Libya' 'Kyrgyzstan' 'Paraguay' 'Nicaragua'\n",
      " 'Bulgaria' 'Serbia' 'El Salvador' 'Republic of the Congo' 'Denmark'\n",
      " 'Lebanon' 'Finland' 'Liberia' 'Norway' 'Slovakia'\n",
      " 'Central African Republic' 'Oman' 'Ireland' 'New Zealand' 'Mauritania'\n",
      " 'Costa Rica' 'Kuwait' 'Panama' 'Croatia' 'Georgia' 'Mongolia' 'Uruguay'\n",
      " 'Bosnia and Herzegovina' 'Qatar' 'Moldova' 'Namibia' 'Armenia'\n",
      " 'Lithuania' 'Jamaica' 'Albania' 'Gambia' 'Gabon' 'Botswana' 'Lesotho'\n",
      " 'Guinea-Bissau' 'Slovenia' 'Latvia' 'North Macedonia' 'Bahrain'\n",
      " 'Trinidad and Tobago' 'Timor-Leste' 'Estonia' 'Cyprus' 'Mauritius'\n",
      " 'Eswatini' 'Djibouti' 'Fiji' 'Comoros' 'Guyana' 'Solomon Islands'\n",
      " 'Bhutan' 'Macau' 'Luxembourg' 'Montenegro' 'Suriname' 'Malta' 'Maldives'\n",
      " 'Cape Verde' 'Belize' 'Bahamas' 'Iceland' 'Vanuatu' 'New Caledonia'\n",
      " 'Barbados' 'French Polynesia' 'Sao Tome and Principe' 'Samoa'\n",
      " 'Saint Lucia' 'Kiribati' 'Seychelles' 'Grenada' 'Micronesia'\n",
      " 'Saint Vincent and the Grenadines' 'Antigua and Barbuda' 'Dominica'\n",
      " 'Saint Kitts and Nevis']\n"
     ]
    }
   ],
   "source": [
    "print(tmp_df.columns)\n",
    "print(beerConsumption_df.columns)\n",
    "\n",
    "print(tmp_df['location'].unique())\n",
    "print(beerConsumption_df['country'].unique())\n"
   ],
   "metadata": {
    "collapsed": false
   }
  },
  {
   "cell_type": "code",
   "execution_count": 36,
   "outputs": [
    {
     "name": "stdout",
     "output_type": "stream",
     "text": [
      "Index(['beer_name', 'beer_id', 'brewery_name', 'brewery_id', 'style', 'abv',\n",
      "       'date', 'user_name', 'user_id', 'appearance', 'aroma', 'palate',\n",
      "       'taste', 'overall', 'rating', 'text', 'review', 'id', 'location',\n",
      "       'name', 'nbr_beers', 'country',\n",
      "       'BeerConsumptionTotalConsumption1000t2021',\n",
      "       'BeerConsumptionPerCapitakg2021',\n",
      "       'beerConsumptionByCountry_consmPerCap2020',\n",
      "       'beerConsumptionByCountry_consmPerCap', 'beer_consumption_per_capita'],\n",
      "      dtype='object')\n"
     ]
    },
    {
     "data": {
      "text/plain": "         beer_id                   beer_name  rating  location  \\\n0           7331                       Stout    3.25  slovenia   \n1           7331                       Stout    3.50  slovenia   \n2           7331                       Stout    4.07  slovenia   \n3           7331                       Stout    2.46  slovenia   \n4           7331                       Stout    3.74  slovenia   \n...          ...                         ...     ...       ...   \n1169805     3832  Michigan Brewing Wheatland    3.89   germany   \n1169806     3832  Michigan Brewing Wheatland    3.80   germany   \n1169807     3832  Michigan Brewing Wheatland    3.50   germany   \n1169808     3832  Michigan Brewing Wheatland    3.36   germany   \n1169809     3832  Michigan Brewing Wheatland    4.05   germany   \n\n         beer_consumption_per_capita  \n0                              66.25  \n1                              66.25  \n2                              66.25  \n3                              66.25  \n4                              66.25  \n...                              ...  \n1169805                        91.30  \n1169806                        91.30  \n1169807                        91.30  \n1169808                        91.30  \n1169809                        91.30  \n\n[1169810 rows x 5 columns]",
      "text/html": "<div>\n<style scoped>\n    .dataframe tbody tr th:only-of-type {\n        vertical-align: middle;\n    }\n\n    .dataframe tbody tr th {\n        vertical-align: top;\n    }\n\n    .dataframe thead th {\n        text-align: right;\n    }\n</style>\n<table border=\"1\" class=\"dataframe\">\n  <thead>\n    <tr style=\"text-align: right;\">\n      <th></th>\n      <th>beer_id</th>\n      <th>beer_name</th>\n      <th>rating</th>\n      <th>location</th>\n      <th>beer_consumption_per_capita</th>\n    </tr>\n  </thead>\n  <tbody>\n    <tr>\n      <th>0</th>\n      <td>7331</td>\n      <td>Stout</td>\n      <td>3.25</td>\n      <td>slovenia</td>\n      <td>66.25</td>\n    </tr>\n    <tr>\n      <th>1</th>\n      <td>7331</td>\n      <td>Stout</td>\n      <td>3.50</td>\n      <td>slovenia</td>\n      <td>66.25</td>\n    </tr>\n    <tr>\n      <th>2</th>\n      <td>7331</td>\n      <td>Stout</td>\n      <td>4.07</td>\n      <td>slovenia</td>\n      <td>66.25</td>\n    </tr>\n    <tr>\n      <th>3</th>\n      <td>7331</td>\n      <td>Stout</td>\n      <td>2.46</td>\n      <td>slovenia</td>\n      <td>66.25</td>\n    </tr>\n    <tr>\n      <th>4</th>\n      <td>7331</td>\n      <td>Stout</td>\n      <td>3.74</td>\n      <td>slovenia</td>\n      <td>66.25</td>\n    </tr>\n    <tr>\n      <th>...</th>\n      <td>...</td>\n      <td>...</td>\n      <td>...</td>\n      <td>...</td>\n      <td>...</td>\n    </tr>\n    <tr>\n      <th>1169805</th>\n      <td>3832</td>\n      <td>Michigan Brewing Wheatland</td>\n      <td>3.89</td>\n      <td>germany</td>\n      <td>91.30</td>\n    </tr>\n    <tr>\n      <th>1169806</th>\n      <td>3832</td>\n      <td>Michigan Brewing Wheatland</td>\n      <td>3.80</td>\n      <td>germany</td>\n      <td>91.30</td>\n    </tr>\n    <tr>\n      <th>1169807</th>\n      <td>3832</td>\n      <td>Michigan Brewing Wheatland</td>\n      <td>3.50</td>\n      <td>germany</td>\n      <td>91.30</td>\n    </tr>\n    <tr>\n      <th>1169808</th>\n      <td>3832</td>\n      <td>Michigan Brewing Wheatland</td>\n      <td>3.36</td>\n      <td>germany</td>\n      <td>91.30</td>\n    </tr>\n    <tr>\n      <th>1169809</th>\n      <td>3832</td>\n      <td>Michigan Brewing Wheatland</td>\n      <td>4.05</td>\n      <td>germany</td>\n      <td>91.30</td>\n    </tr>\n  </tbody>\n</table>\n<p>1169810 rows × 5 columns</p>\n</div>"
     },
     "execution_count": 36,
     "metadata": {},
     "output_type": "execute_result"
    }
   ],
   "source": [
    "tmp_df['location'] = tmp_df['location'].str.strip().str.lower()\n",
    "beerConsumption_df['country'] = beerConsumption_df['country'].str.strip().str.lower()\n",
    "\n",
    "merged_df = tmp_df.merge(beerConsumption_df, left_on='location', right_on='country')\n",
    "merged_df['beer_consumption_per_capita'] = (merged_df['BeerConsumptionPerCapitakg2021'] + merged_df['BeerConsumptionPerCapitakg2021'])/2\n",
    "print(merged_df.columns)\n",
    "merged_df = merged_df[['beer_id', 'beer_name', 'rating', 'location', 'beer_consumption_per_capita']]\n",
    "merged_df"
   ],
   "metadata": {
    "collapsed": false
   }
  },
  {
   "cell_type": "code",
   "execution_count": 37,
   "outputs": [
    {
     "data": {
      "text/plain": "             rating  beer_consumption_per_capita\nlocation                                        \nalbania    3.602621                        29.71\nalgeria    3.599868                         3.41\nangola     3.706154                        32.73\nargentina  3.523155                        42.59\narmenia    3.396507                        12.08\n...             ...                          ...\nvanuatu    3.359439                         0.69\nvenezuela  3.445155                        11.17\nvietnam    3.773474                        42.53\nzambia     3.876429                        17.33\nzimbabwe   3.604762                        13.93\n\n[148 rows x 2 columns]",
      "text/html": "<div>\n<style scoped>\n    .dataframe tbody tr th:only-of-type {\n        vertical-align: middle;\n    }\n\n    .dataframe tbody tr th {\n        vertical-align: top;\n    }\n\n    .dataframe thead th {\n        text-align: right;\n    }\n</style>\n<table border=\"1\" class=\"dataframe\">\n  <thead>\n    <tr style=\"text-align: right;\">\n      <th></th>\n      <th>rating</th>\n      <th>beer_consumption_per_capita</th>\n    </tr>\n    <tr>\n      <th>location</th>\n      <th></th>\n      <th></th>\n    </tr>\n  </thead>\n  <tbody>\n    <tr>\n      <th>albania</th>\n      <td>3.602621</td>\n      <td>29.71</td>\n    </tr>\n    <tr>\n      <th>algeria</th>\n      <td>3.599868</td>\n      <td>3.41</td>\n    </tr>\n    <tr>\n      <th>angola</th>\n      <td>3.706154</td>\n      <td>32.73</td>\n    </tr>\n    <tr>\n      <th>argentina</th>\n      <td>3.523155</td>\n      <td>42.59</td>\n    </tr>\n    <tr>\n      <th>armenia</th>\n      <td>3.396507</td>\n      <td>12.08</td>\n    </tr>\n    <tr>\n      <th>...</th>\n      <td>...</td>\n      <td>...</td>\n    </tr>\n    <tr>\n      <th>vanuatu</th>\n      <td>3.359439</td>\n      <td>0.69</td>\n    </tr>\n    <tr>\n      <th>venezuela</th>\n      <td>3.445155</td>\n      <td>11.17</td>\n    </tr>\n    <tr>\n      <th>vietnam</th>\n      <td>3.773474</td>\n      <td>42.53</td>\n    </tr>\n    <tr>\n      <th>zambia</th>\n      <td>3.876429</td>\n      <td>17.33</td>\n    </tr>\n    <tr>\n      <th>zimbabwe</th>\n      <td>3.604762</td>\n      <td>13.93</td>\n    </tr>\n  </tbody>\n</table>\n<p>148 rows × 2 columns</p>\n</div>"
     },
     "execution_count": 37,
     "metadata": {},
     "output_type": "execute_result"
    }
   ],
   "source": [
    "merged_df.dropna()\n",
    "merged_df = merged_df.groupby('location').agg(rating=('rating', 'mean'), beer_consumption_per_capita=('beer_consumption_per_capita', 'min'))\n",
    "merged_df"
   ],
   "metadata": {
    "collapsed": false
   }
  },
  {
   "cell_type": "code",
   "execution_count": 39,
   "outputs": [
    {
     "name": "stdout",
     "output_type": "stream",
     "text": [
      "Correlation: 0.1886702326433897\n"
     ]
    }
   ],
   "source": [
    "corr = merged_df['rating'].corr(merged_df['beer_consumption_per_capita'])\n",
    "print\n",
    "print(\"Correlation:\", corr)"
   ],
   "metadata": {
    "collapsed": false
   }
  },
  {
   "cell_type": "code",
   "execution_count": null,
   "outputs": [],
   "source": [
    "# plot a faire : voir week3"
   ],
   "metadata": {
    "collapsed": false
   }
  },
  {
   "cell_type": "code",
   "execution_count": 40,
   "outputs": [
    {
     "name": "stdout",
     "output_type": "stream",
     "text": [
      "PearsonRResult(statistic=np.float64(0.1886702326433896), pvalue=np.float64(0.021648703784520766))\n",
      "SignificanceResult(statistic=np.float64(0.19006132085108066), pvalue=np.float64(0.020682971553509392))\n"
     ]
    }
   ],
   "source": [
    "#H0 => no correlation\n",
    "\n",
    "print(stats.pearsonr(merged_df['rating'], merged_df['beer_consumption_per_capita']))\n",
    "print(stats.spearmanr(merged_df['rating'], merged_df['beer_consumption_per_capita']))"
   ],
   "metadata": {
    "collapsed": false
   }
  },
  {
   "cell_type": "code",
   "execution_count": null,
   "outputs": [],
   "source": [],
   "metadata": {
    "collapsed": false
   }
  }
 ],
 "metadata": {
  "kernelspec": {
   "display_name": "Python 3",
   "language": "python",
   "name": "python3"
  },
  "language_info": {
   "codemirror_mode": {
    "name": "ipython",
    "version": 2
   },
   "file_extension": ".py",
   "mimetype": "text/x-python",
   "name": "python",
   "nbconvert_exporter": "python",
   "pygments_lexer": "ipython2",
   "version": "2.7.6"
  }
 },
 "nbformat": 4,
 "nbformat_minor": 0
}
