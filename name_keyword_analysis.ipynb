{
 "cells": [
  {
   "cell_type": "markdown",
   "id": "06ed54bb-7af9-41d6-97ad-6410ed806558",
   "metadata": {},
   "source": [
    "# Imports and Config"
   ]
  },
  {
   "cell_type": "code",
   "execution_count": 1,
   "id": "0509580d-2b8f-4920-beab-cc1099e7f34c",
   "metadata": {},
   "outputs": [],
   "source": [
    "import pandas as pd\n",
    "import nltk\n",
    "import string\n",
    "from nltk.corpus import stopwords\n",
    "from nltk.stem import PorterStemmer\n",
    "from nltk.tokenize import word_tokenize\n",
    "from scipy import stats"
   ]
  },
  {
   "cell_type": "code",
   "execution_count": 2,
   "id": "02b924c3-6f91-4a12-8e9d-c5a08ec1261b",
   "metadata": {},
   "outputs": [
    {
     "name": "stderr",
     "output_type": "stream",
     "text": [
      "[nltk_data] Downloading package punkt to\n",
      "[nltk_data]     C:\\Users\\edgar\\AppData\\Roaming\\nltk_data...\n",
      "[nltk_data]   Package punkt is already up-to-date!\n",
      "[nltk_data] Downloading package stopwords to\n",
      "[nltk_data]     C:\\Users\\edgar\\AppData\\Roaming\\nltk_data...\n",
      "[nltk_data]   Package stopwords is already up-to-date!\n"
     ]
    },
    {
     "data": {
      "text/plain": [
       "True"
      ]
     },
     "execution_count": 2,
     "metadata": {},
     "output_type": "execute_result"
    }
   ],
   "source": [
    "# Install necessary nltk packages\n",
    "nltk.download(\"punkt\")\n",
    "nltk.download(\"stopwords\")"
   ]
  },
  {
   "cell_type": "code",
   "execution_count": 3,
   "id": "efecf910-eb1c-4000-b031-23775eaf082d",
   "metadata": {},
   "outputs": [],
   "source": [
    "# Path to beers csv file\n",
    "data_path = \"BeerAdvocate/beers.csv\""
   ]
  },
  {
   "cell_type": "markdown",
   "id": "abf8bf21-b12d-4557-adf2-069f9ac566cb",
   "metadata": {},
   "source": [
    "# Data Loading"
   ]
  },
  {
   "cell_type": "code",
   "execution_count": 4,
   "id": "c1d5035d-a984-4e05-ba46-60f4f782c327",
   "metadata": {},
   "outputs": [],
   "source": [
    "beers = pd.read_csv(data_path)"
   ]
  },
  {
   "cell_type": "code",
   "execution_count": 5,
   "id": "545e3458-276b-4042-bb43-509d2fc7f7e7",
   "metadata": {},
   "outputs": [],
   "source": [
    "# Keep only significant beers and columns (at least 10 reviews)\n",
    "rated_beers = beers[beers[\"nbr_ratings\"] >= 10][[\"beer_id\", \"beer_name\", \"nbr_ratings\", \"avg\"]]"
   ]
  },
  {
   "cell_type": "markdown",
   "id": "ac2b982a-2c3a-4b49-bfaa-7b9c3e1be32f",
   "metadata": {},
   "source": [
    "# Evaluating the Importance of Specific Keywords in Beer Naming"
   ]
  },
  {
   "cell_type": "code",
   "execution_count": 7,
   "id": "a6da1a2a-0a0e-46e0-9e89-4972aa4caf0c",
   "metadata": {},
   "outputs": [],
   "source": [
    "# Load stemmer to group similar words\n",
    "stemmer = PorterStemmer()"
   ]
  },
  {
   "cell_type": "code",
   "execution_count": 8,
   "id": "209262f0-c0b9-420e-a9ae-038a7881c07f",
   "metadata": {},
   "outputs": [],
   "source": [
    "# A set of stop words to avoid, use english as of now for simplicity\n",
    "stop_words = set(stopwords.words(\"english\"))"
   ]
  },
  {
   "cell_type": "code",
   "execution_count": 9,
   "id": "77405fda-f681-42d5-b7e4-02b1c8a16093",
   "metadata": {},
   "outputs": [],
   "source": [
    "def convert_name_to_stemmed_keywords(name):\n",
    "    # Lowercase and remove punctuation\n",
    "    processed_name = name.lower()\n",
    "    processed_name = processed_name.translate(str.maketrans('', '', string.punctuation))\n",
    "\n",
    "    # Split by word and remove stop words\n",
    "    tokens = word_tokenize(processed_name)\n",
    "    tokens = [word for word in tokens if word not in stop_words]\n",
    "\n",
    "    # Stem words to handle similar forms of words (tense, plural, ...)\n",
    "    stemmed_tokens = [stemmer.stem(word) for word in tokens]\n",
    "\n",
    "    # Return these stemmed words as the keywords of the beer name\n",
    "    return stemmed_tokens"
   ]
  },
  {
   "cell_type": "code",
   "execution_count": 10,
   "id": "389f3cc4-b3d5-4d84-9ab6-bb36fcee2938",
   "metadata": {},
   "outputs": [],
   "source": [
    "# Add keywords column with stemmed keywords for each beer name\n",
    "rated_beers[\"keywords\"] = rated_beers[\"beer_name\"].apply(convert_name_to_stemmed_keywords)"
   ]
  },
  {
   "cell_type": "code",
   "execution_count": 11,
   "id": "f19fcc78-1ea5-44b8-9775-ee257a15ca83",
   "metadata": {},
   "outputs": [],
   "source": [
    "# Find the number, average, standard deviation, minimum and maximum beer ratings for each keyword\n",
    "exploded_keywords = rated_beers.explode(\"keywords\")\n",
    "keyword_ratings = exploded_keywords.groupby(\"keywords\")[\"avg\"].agg([\"mean\", \"count\", \"std\", \"min\", \"max\"]).reset_index()"
   ]
  },
  {
   "cell_type": "code",
   "execution_count": 12,
   "id": "93b99b44-a109-4260-afeb-79ce6ce45d2e",
   "metadata": {},
   "outputs": [],
   "source": [
    "# Keep only keywords which are common and significant (>= 100 beers with keyword)\n",
    "significant_keywords = keyword_ratings[keyword_ratings[\"count\"] >= 100]"
   ]
  },
  {
   "cell_type": "code",
   "execution_count": 23,
   "id": "1dc9b4f1-408e-4e09-a303-6a0665e279bb",
   "metadata": {},
   "outputs": [
    {
     "data": {
      "text/html": [
       "<div>\n",
       "<style scoped>\n",
       "    .dataframe tbody tr th:only-of-type {\n",
       "        vertical-align: middle;\n",
       "    }\n",
       "\n",
       "    .dataframe tbody tr th {\n",
       "        vertical-align: top;\n",
       "    }\n",
       "\n",
       "    .dataframe thead th {\n",
       "        text-align: right;\n",
       "    }\n",
       "</style>\n",
       "<table border=\"1\" class=\"dataframe\">\n",
       "  <thead>\n",
       "    <tr style=\"text-align: right;\">\n",
       "      <th></th>\n",
       "      <th>keywords</th>\n",
       "      <th>mean</th>\n",
       "      <th>count</th>\n",
       "      <th>std</th>\n",
       "      <th>min</th>\n",
       "      <th>max</th>\n",
       "    </tr>\n",
       "  </thead>\n",
       "  <tbody>\n",
       "    <tr>\n",
       "      <th>24475</th>\n",
       "      <td>w</td>\n",
       "      <td>4.150929</td>\n",
       "      <td>140</td>\n",
       "      <td>0.368165</td>\n",
       "      <td>2.19</td>\n",
       "      <td>4.84</td>\n",
       "    </tr>\n",
       "    <tr>\n",
       "      <th>3188</th>\n",
       "      <td>blend</td>\n",
       "      <td>4.144384</td>\n",
       "      <td>146</td>\n",
       "      <td>0.334802</td>\n",
       "      <td>2.62</td>\n",
       "      <td>4.86</td>\n",
       "    </tr>\n",
       "    <tr>\n",
       "      <th>430</th>\n",
       "      <td>2016</td>\n",
       "      <td>4.108108</td>\n",
       "      <td>148</td>\n",
       "      <td>0.317328</td>\n",
       "      <td>2.99</td>\n",
       "      <td>4.87</td>\n",
       "    </tr>\n",
       "    <tr>\n",
       "      <th>15491</th>\n",
       "      <td>mosaic</td>\n",
       "      <td>4.094598</td>\n",
       "      <td>174</td>\n",
       "      <td>0.259879</td>\n",
       "      <td>2.83</td>\n",
       "      <td>4.78</td>\n",
       "    </tr>\n",
       "    <tr>\n",
       "      <th>9268</th>\n",
       "      <td>galaxi</td>\n",
       "      <td>4.094586</td>\n",
       "      <td>133</td>\n",
       "      <td>0.242529</td>\n",
       "      <td>3.35</td>\n",
       "      <td>4.56</td>\n",
       "    </tr>\n",
       "    <tr>\n",
       "      <th>2643</th>\n",
       "      <td>bean</td>\n",
       "      <td>4.085391</td>\n",
       "      <td>128</td>\n",
       "      <td>0.334089</td>\n",
       "      <td>3.05</td>\n",
       "      <td>4.77</td>\n",
       "    </tr>\n",
       "    <tr>\n",
       "      <th>3677</th>\n",
       "      <td>brandi</td>\n",
       "      <td>4.076615</td>\n",
       "      <td>130</td>\n",
       "      <td>0.384104</td>\n",
       "      <td>2.51</td>\n",
       "      <td>4.80</td>\n",
       "    </tr>\n",
       "    <tr>\n",
       "      <th>20863</th>\n",
       "      <td>simco</td>\n",
       "      <td>4.073220</td>\n",
       "      <td>118</td>\n",
       "      <td>0.258344</td>\n",
       "      <td>3.15</td>\n",
       "      <td>4.67</td>\n",
       "    </tr>\n",
       "    <tr>\n",
       "      <th>12400</th>\n",
       "      <td>juic</td>\n",
       "      <td>4.072736</td>\n",
       "      <td>106</td>\n",
       "      <td>0.303602</td>\n",
       "      <td>3.36</td>\n",
       "      <td>4.83</td>\n",
       "    </tr>\n",
       "    <tr>\n",
       "      <th>1183</th>\n",
       "      <td>age</td>\n",
       "      <td>4.056598</td>\n",
       "      <td>1746</td>\n",
       "      <td>0.322567</td>\n",
       "      <td>2.17</td>\n",
       "      <td>4.90</td>\n",
       "    </tr>\n",
       "  </tbody>\n",
       "</table>\n",
       "</div>"
      ],
      "text/plain": [
       "      keywords      mean  count       std   min   max\n",
       "24475        w  4.150929    140  0.368165  2.19  4.84\n",
       "3188     blend  4.144384    146  0.334802  2.62  4.86\n",
       "430       2016  4.108108    148  0.317328  2.99  4.87\n",
       "15491   mosaic  4.094598    174  0.259879  2.83  4.78\n",
       "9268    galaxi  4.094586    133  0.242529  3.35  4.56\n",
       "2643      bean  4.085391    128  0.334089  3.05  4.77\n",
       "3677    brandi  4.076615    130  0.384104  2.51  4.80\n",
       "20863    simco  4.073220    118  0.258344  3.15  4.67\n",
       "12400     juic  4.072736    106  0.303602  3.36  4.83\n",
       "1183       age  4.056598   1746  0.322567  2.17  4.90"
      ]
     },
     "execution_count": 23,
     "metadata": {},
     "output_type": "execute_result"
    }
   ],
   "source": [
    "# Display 10 most positively significant keywords\n",
    "ten_best = significant_keywords.nlargest(10, \"mean\")\n",
    "ten_best"
   ]
  },
  {
   "cell_type": "code",
   "execution_count": 24,
   "id": "e35b1145-5183-49d9-9fff-6df79139a628",
   "metadata": {},
   "outputs": [
    {
     "data": {
      "text/html": [
       "<div>\n",
       "<style scoped>\n",
       "    .dataframe tbody tr th:only-of-type {\n",
       "        vertical-align: middle;\n",
       "    }\n",
       "\n",
       "    .dataframe tbody tr th {\n",
       "        vertical-align: top;\n",
       "    }\n",
       "\n",
       "    .dataframe thead th {\n",
       "        text-align: right;\n",
       "    }\n",
       "</style>\n",
       "<table border=\"1\" class=\"dataframe\">\n",
       "  <thead>\n",
       "    <tr style=\"text-align: right;\">\n",
       "      <th></th>\n",
       "      <th>keywords</th>\n",
       "      <th>mean</th>\n",
       "      <th>count</th>\n",
       "      <th>std</th>\n",
       "      <th>min</th>\n",
       "      <th>max</th>\n",
       "    </tr>\n",
       "  </thead>\n",
       "  <tbody>\n",
       "    <tr>\n",
       "      <th>13725</th>\n",
       "      <td>light</td>\n",
       "      <td>2.964534</td>\n",
       "      <td>311</td>\n",
       "      <td>0.696015</td>\n",
       "      <td>1.50</td>\n",
       "      <td>4.52</td>\n",
       "    </tr>\n",
       "    <tr>\n",
       "      <th>18197</th>\n",
       "      <td>premium</td>\n",
       "      <td>3.105729</td>\n",
       "      <td>288</td>\n",
       "      <td>0.464278</td>\n",
       "      <td>1.84</td>\n",
       "      <td>4.16</td>\n",
       "    </tr>\n",
       "    <tr>\n",
       "      <th>17701</th>\n",
       "      <td>pilsen</td>\n",
       "      <td>3.236937</td>\n",
       "      <td>111</td>\n",
       "      <td>0.432113</td>\n",
       "      <td>2.00</td>\n",
       "      <td>4.04</td>\n",
       "    </tr>\n",
       "    <tr>\n",
       "      <th>8108</th>\n",
       "      <td>export</td>\n",
       "      <td>3.338774</td>\n",
       "      <td>106</td>\n",
       "      <td>0.545017</td>\n",
       "      <td>2.11</td>\n",
       "      <td>4.40</td>\n",
       "    </tr>\n",
       "    <tr>\n",
       "      <th>14376</th>\n",
       "      <td>malt</td>\n",
       "      <td>3.373365</td>\n",
       "      <td>104</td>\n",
       "      <td>0.675532</td>\n",
       "      <td>1.49</td>\n",
       "      <td>4.87</td>\n",
       "    </tr>\n",
       "    <tr>\n",
       "      <th>13302</th>\n",
       "      <td>lager</td>\n",
       "      <td>3.405871</td>\n",
       "      <td>1390</td>\n",
       "      <td>0.450432</td>\n",
       "      <td>1.58</td>\n",
       "      <td>4.35</td>\n",
       "    </tr>\n",
       "    <tr>\n",
       "      <th>1462</th>\n",
       "      <td>amber</td>\n",
       "      <td>3.465235</td>\n",
       "      <td>596</td>\n",
       "      <td>0.330099</td>\n",
       "      <td>1.38</td>\n",
       "      <td>4.36</td>\n",
       "    </tr>\n",
       "    <tr>\n",
       "      <th>20051</th>\n",
       "      <td>saranac</td>\n",
       "      <td>3.508545</td>\n",
       "      <td>110</td>\n",
       "      <td>0.259424</td>\n",
       "      <td>2.80</td>\n",
       "      <td>4.41</td>\n",
       "    </tr>\n",
       "    <tr>\n",
       "      <th>16773</th>\n",
       "      <td>origin</td>\n",
       "      <td>3.518962</td>\n",
       "      <td>183</td>\n",
       "      <td>0.464663</td>\n",
       "      <td>2.09</td>\n",
       "      <td>4.51</td>\n",
       "    </tr>\n",
       "    <tr>\n",
       "      <th>3235</th>\n",
       "      <td>blond</td>\n",
       "      <td>3.523381</td>\n",
       "      <td>698</td>\n",
       "      <td>0.357753</td>\n",
       "      <td>2.03</td>\n",
       "      <td>4.82</td>\n",
       "    </tr>\n",
       "  </tbody>\n",
       "</table>\n",
       "</div>"
      ],
      "text/plain": [
       "      keywords      mean  count       std   min   max\n",
       "13725    light  2.964534    311  0.696015  1.50  4.52\n",
       "18197  premium  3.105729    288  0.464278  1.84  4.16\n",
       "17701   pilsen  3.236937    111  0.432113  2.00  4.04\n",
       "8108    export  3.338774    106  0.545017  2.11  4.40\n",
       "14376     malt  3.373365    104  0.675532  1.49  4.87\n",
       "13302    lager  3.405871   1390  0.450432  1.58  4.35\n",
       "1462     amber  3.465235    596  0.330099  1.38  4.36\n",
       "20051  saranac  3.508545    110  0.259424  2.80  4.41\n",
       "16773   origin  3.518962    183  0.464663  2.09  4.51\n",
       "3235     blond  3.523381    698  0.357753  2.03  4.82"
      ]
     },
     "execution_count": 24,
     "metadata": {},
     "output_type": "execute_result"
    }
   ],
   "source": [
    "# Display 10 most negatively significant keywords\n",
    "ten_worst = significant_keywords.nsmallest(10, \"mean\")\n",
    "ten_worst"
   ]
  },
  {
   "cell_type": "code",
   "execution_count": 25,
   "id": "65f48135-a8ba-4d7b-9801-173ce285fe94",
   "metadata": {},
   "outputs": [],
   "source": [
    "# T-test to confirm significant differences between most polarizing keywords\n",
    "with_keyword_1 = rated_beers[rated_beers[\"keywords\"].apply(lambda x: \"w\" in x)][\"avg\"]\n",
    "with_keyword_2 = rated_beers[rated_beers[\"keywords\"].apply(lambda x: \"light\" in x)][\"avg\"]"
   ]
  },
  {
   "cell_type": "code",
   "execution_count": 26,
   "id": "fd9af822-7ecf-4f00-9967-5d18ec3c7636",
   "metadata": {},
   "outputs": [
    {
     "data": {
      "text/plain": [
       "(18.952795915475715, 2.965913416175236e-59)"
      ]
     },
     "execution_count": 26,
     "metadata": {},
     "output_type": "execute_result"
    }
   ],
   "source": [
    "t_stat, p_val = stats.ttest_ind(with_keyword_1, with_keyword_2)\n",
    "t_stat, p_val"
   ]
  },
  {
   "cell_type": "code",
   "execution_count": 27,
   "id": "3fada6e3-33c4-446f-9b63-684e85520366",
   "metadata": {},
   "outputs": [],
   "source": [
    "# T-test to confirm less or no differences between similarly ranked keywords\n",
    "with_keyword_1 = rated_beers[rated_beers[\"keywords\"].apply(lambda x: \"w\" in x)][\"avg\"]\n",
    "with_keyword_2 = rated_beers[rated_beers[\"keywords\"].apply(lambda x: \"blend\" in x)][\"avg\"]"
   ]
  },
  {
   "cell_type": "code",
   "execution_count": 28,
   "id": "13be8f20-f049-4d2e-8b32-e1687a1dd5d7",
   "metadata": {},
   "outputs": [
    {
     "data": {
      "text/plain": [
       "(0.18638182347893084, 0.8522788779103688)"
      ]
     },
     "execution_count": 28,
     "metadata": {},
     "output_type": "execute_result"
    }
   ],
   "source": [
    "t_stat, p_val = stats.ttest_ind(with_keyword_1, with_keyword_2)\n",
    "t_stat, p_val"
   ]
  },
  {
   "cell_type": "code",
   "execution_count": 31,
   "id": "f7daa99f-4c3d-4351-909a-fc97ca2f0d98",
   "metadata": {},
   "outputs": [],
   "source": [
    "# T-test between beers with any of the top 10 rated kaywords vs top 10 worst rated keywords\n",
    "with_keyword_1 = rated_beers[rated_beers[\"keywords\"].apply(lambda x: any(keyword in x for keyword in list(ten_best[\"keywords\"])))][\"avg\"]\n",
    "with_keyword_2 = rated_beers[rated_beers[\"keywords\"].apply(lambda x: any(keyword in x for keyword in list(ten_worst[\"keywords\"])))][\"avg\"]"
   ]
  },
  {
   "cell_type": "code",
   "execution_count": 32,
   "id": "3e413769-96ba-49ed-8fff-e023031ef36a",
   "metadata": {},
   "outputs": [
    {
     "data": {
      "text/plain": [
       "(63.9879409398508, 0.0)"
      ]
     },
     "execution_count": 32,
     "metadata": {},
     "output_type": "execute_result"
    }
   ],
   "source": [
    "t_stat, p_val = stats.ttest_ind(with_keyword_1, with_keyword_2)\n",
    "t_stat, p_val"
   ]
  }
 ],
 "metadata": {
  "kernelspec": {
   "display_name": "Python 3 (ipykernel)",
   "language": "python",
   "name": "python3"
  },
  "language_info": {
   "codemirror_mode": {
    "name": "ipython",
    "version": 3
   },
   "file_extension": ".py",
   "mimetype": "text/x-python",
   "name": "python",
   "nbconvert_exporter": "python",
   "pygments_lexer": "ipython3",
   "version": "3.12.4"
  }
 },
 "nbformat": 4,
 "nbformat_minor": 5
}
